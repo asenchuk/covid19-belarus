{
 "cells": [
  {
   "cell_type": "markdown",
   "metadata": {},
   "source": [
    "# Belarus COVID-19 status"
   ]
  },
  {
   "cell_type": "markdown",
   "metadata": {},
   "source": [
    "The first case in Belarus is dated Feb 27 ([According to govt report](http://minzdrav.gov.by/ru/sobytiya/v-belarusi-zaregistrirovan-zavoznoy-sluchay-koronavirusa/))"
   ]
  },
  {
   "cell_type": "code",
   "execution_count": 1,
   "metadata": {},
   "outputs": [],
   "source": [
    "import pandas as pd\n",
    "import numpy as np\n",
    "import altair as alt\n",
    "\n",
    "default_chart_properties = {\n",
    "    'width': 550,\n",
    "    'height': 400\n",
    "}\n",
    "\n",
    "SOURCE_NAME = 'COVID-19 Data Repository by the Center for Systems Science and Engineering (CSSE) at Johns Hopkins University'\n",
    "TIME_SERIES_URL = 'https://raw.githubusercontent.com/CSSEGISandData/COVID-19/master/csse_covid_19_data/csse_covid_19_time_series/time_series_covid19_{}_global.csv'"
   ]
  },
  {
   "cell_type": "code",
   "execution_count": 2,
   "metadata": {},
   "outputs": [],
   "source": [
    "def load_series(country, key):\n",
    "    df = pd.read_csv(TIME_SERIES_URL.format(key))\n",
    "\n",
    "    df = df.loc[df['Country/Region'] == country] \\\n",
    "        .drop(columns=['Lat', 'Long', 'Province/State', 'Country/Region']) \\\n",
    "        .melt() \\\n",
    "        .rename(columns={'variable': 'date', 'value': 'total_cases'})\n",
    "\n",
    "    df['date'] = pd.to_datetime(df.date)\n",
    "    df = df.sort_values(by='date')\n",
    "\n",
    "    return df"
   ]
  },
  {
   "cell_type": "code",
   "execution_count": 3,
   "metadata": {},
   "outputs": [
    {
     "name": "stdout",
     "output_type": "stream",
     "text": [
      "Case series as for 23.05.2020\n"
     ]
    }
   ],
   "source": [
    "confirmed_cases = load_series('Belarus', 'confirmed')\n",
    "deaths_cases = load_series('Belarus', 'deaths')\n",
    "recovered_cases = load_series('Belarus', 'recovered')\n",
    "\n",
    "print('Case series as for {}'.format(\n",
    "    confirmed_cases.iloc[-1]['date'].strftime('%d.%m.%Y')))"
   ]
  },
  {
   "cell_type": "markdown",
   "metadata": {},
   "source": [
    "### Total Cases"
   ]
  },
  {
   "cell_type": "code",
   "execution_count": 4,
   "metadata": {},
   "outputs": [
    {
     "data": {
      "text/html": [
       "\n",
       "<div id=\"altair-viz-fb5c159ffa2645e3a5be6ec6fea476f0\"></div>\n",
       "<script type=\"text/javascript\">\n",
       "  (function(spec, embedOpt){\n",
       "    let outputDiv = document.currentScript.previousElementSibling;\n",
       "    if (outputDiv.id !== \"altair-viz-fb5c159ffa2645e3a5be6ec6fea476f0\") {\n",
       "      outputDiv = document.getElementById(\"altair-viz-fb5c159ffa2645e3a5be6ec6fea476f0\");\n",
       "    }\n",
       "    const paths = {\n",
       "      \"vega\": \"https://cdn.jsdelivr.net/npm//vega@5?noext\",\n",
       "      \"vega-lib\": \"https://cdn.jsdelivr.net/npm//vega-lib?noext\",\n",
       "      \"vega-lite\": \"https://cdn.jsdelivr.net/npm//vega-lite@4.8.1?noext\",\n",
       "      \"vega-embed\": \"https://cdn.jsdelivr.net/npm//vega-embed@6?noext\",\n",
       "    };\n",
       "\n",
       "    function loadScript(lib) {\n",
       "      return new Promise(function(resolve, reject) {\n",
       "        var s = document.createElement('script');\n",
       "        s.src = paths[lib];\n",
       "        s.async = true;\n",
       "        s.onload = () => resolve(paths[lib]);\n",
       "        s.onerror = () => reject(`Error loading script: ${paths[lib]}`);\n",
       "        document.getElementsByTagName(\"head\")[0].appendChild(s);\n",
       "      });\n",
       "    }\n",
       "\n",
       "    function showError(err) {\n",
       "      outputDiv.innerHTML = `<div class=\"error\" style=\"color:red;\">${err}</div>`;\n",
       "      throw err;\n",
       "    }\n",
       "\n",
       "    function displayChart(vegaEmbed) {\n",
       "      vegaEmbed(outputDiv, spec, embedOpt)\n",
       "        .catch(err => showError(`Javascript Error: ${err.message}<br>This usually means there's a typo in your chart specification. See the javascript console for the full traceback.`));\n",
       "    }\n",
       "\n",
       "    if(typeof define === \"function\" && define.amd) {\n",
       "      requirejs.config({paths});\n",
       "      require([\"vega-embed\"], displayChart, err => showError(`Error loading script: ${err.message}`));\n",
       "    } else if (typeof vegaEmbed === \"function\") {\n",
       "      displayChart(vegaEmbed);\n",
       "    } else {\n",
       "      loadScript(\"vega\")\n",
       "        .then(() => loadScript(\"vega-lite\"))\n",
       "        .then(() => loadScript(\"vega-embed\"))\n",
       "        .catch(showError)\n",
       "        .then(() => displayChart(vegaEmbed));\n",
       "    }\n",
       "  })({\"config\": {\"view\": {\"continuousWidth\": 400, \"continuousHeight\": 300}}, \"data\": {\"name\": \"data-d4025937c3b76538eb5735ba17f4e29e\"}, \"mark\": \"area\", \"encoding\": {\"color\": {\"type\": \"nominal\", \"field\": \"level_0\", \"title\": \"Source\"}, \"x\": {\"type\": \"temporal\", \"field\": \"date\", \"title\": \"Date\"}, \"y\": {\"type\": \"quantitative\", \"field\": \"total_cases\", \"stack\": null, \"title\": \"Total cases\"}}, \"height\": 400, \"width\": 550, \"$schema\": \"https://vega.github.io/schema/vega-lite/v4.8.1.json\", \"datasets\": {\"data-d4025937c3b76538eb5735ba17f4e29e\": [{\"level_0\": \"Confirmed\", \"level_1\": 37, \"date\": \"2020-02-28T00:00:00\", \"total_cases\": 1}, {\"level_0\": \"Confirmed\", \"level_1\": 38, \"date\": \"2020-02-29T00:00:00\", \"total_cases\": 1}, {\"level_0\": \"Confirmed\", \"level_1\": 39, \"date\": \"2020-03-01T00:00:00\", \"total_cases\": 1}, {\"level_0\": \"Confirmed\", \"level_1\": 40, \"date\": \"2020-03-02T00:00:00\", \"total_cases\": 1}, {\"level_0\": \"Confirmed\", \"level_1\": 41, \"date\": \"2020-03-03T00:00:00\", \"total_cases\": 1}, {\"level_0\": \"Confirmed\", \"level_1\": 42, \"date\": \"2020-03-04T00:00:00\", \"total_cases\": 6}, {\"level_0\": \"Confirmed\", \"level_1\": 43, \"date\": \"2020-03-05T00:00:00\", \"total_cases\": 6}, {\"level_0\": \"Confirmed\", \"level_1\": 44, \"date\": \"2020-03-06T00:00:00\", \"total_cases\": 6}, {\"level_0\": \"Confirmed\", \"level_1\": 45, \"date\": \"2020-03-07T00:00:00\", \"total_cases\": 6}, {\"level_0\": \"Confirmed\", \"level_1\": 46, \"date\": \"2020-03-08T00:00:00\", \"total_cases\": 6}, {\"level_0\": \"Confirmed\", \"level_1\": 47, \"date\": \"2020-03-09T00:00:00\", \"total_cases\": 6}, {\"level_0\": \"Confirmed\", \"level_1\": 48, \"date\": \"2020-03-10T00:00:00\", \"total_cases\": 9}, {\"level_0\": \"Confirmed\", \"level_1\": 49, \"date\": \"2020-03-11T00:00:00\", \"total_cases\": 9}, {\"level_0\": \"Confirmed\", \"level_1\": 50, \"date\": \"2020-03-12T00:00:00\", \"total_cases\": 12}, {\"level_0\": \"Confirmed\", \"level_1\": 51, \"date\": \"2020-03-13T00:00:00\", \"total_cases\": 27}, {\"level_0\": \"Confirmed\", \"level_1\": 52, \"date\": \"2020-03-14T00:00:00\", \"total_cases\": 27}, {\"level_0\": \"Confirmed\", \"level_1\": 53, \"date\": \"2020-03-15T00:00:00\", \"total_cases\": 27}, {\"level_0\": \"Confirmed\", \"level_1\": 54, \"date\": \"2020-03-16T00:00:00\", \"total_cases\": 36}, {\"level_0\": \"Confirmed\", \"level_1\": 55, \"date\": \"2020-03-17T00:00:00\", \"total_cases\": 36}, {\"level_0\": \"Confirmed\", \"level_1\": 56, \"date\": \"2020-03-18T00:00:00\", \"total_cases\": 51}, {\"level_0\": \"Confirmed\", \"level_1\": 57, \"date\": \"2020-03-19T00:00:00\", \"total_cases\": 51}, {\"level_0\": \"Confirmed\", \"level_1\": 58, \"date\": \"2020-03-20T00:00:00\", \"total_cases\": 69}, {\"level_0\": \"Confirmed\", \"level_1\": 59, \"date\": \"2020-03-21T00:00:00\", \"total_cases\": 76}, {\"level_0\": \"Confirmed\", \"level_1\": 60, \"date\": \"2020-03-22T00:00:00\", \"total_cases\": 76}, {\"level_0\": \"Confirmed\", \"level_1\": 61, \"date\": \"2020-03-23T00:00:00\", \"total_cases\": 81}, {\"level_0\": \"Confirmed\", \"level_1\": 62, \"date\": \"2020-03-24T00:00:00\", \"total_cases\": 81}, {\"level_0\": \"Confirmed\", \"level_1\": 63, \"date\": \"2020-03-25T00:00:00\", \"total_cases\": 86}, {\"level_0\": \"Confirmed\", \"level_1\": 64, \"date\": \"2020-03-26T00:00:00\", \"total_cases\": 86}, {\"level_0\": \"Confirmed\", \"level_1\": 65, \"date\": \"2020-03-27T00:00:00\", \"total_cases\": 94}, {\"level_0\": \"Confirmed\", \"level_1\": 66, \"date\": \"2020-03-28T00:00:00\", \"total_cases\": 94}, {\"level_0\": \"Confirmed\", \"level_1\": 67, \"date\": \"2020-03-29T00:00:00\", \"total_cases\": 94}, {\"level_0\": \"Confirmed\", \"level_1\": 68, \"date\": \"2020-03-30T00:00:00\", \"total_cases\": 152}, {\"level_0\": \"Confirmed\", \"level_1\": 69, \"date\": \"2020-03-31T00:00:00\", \"total_cases\": 152}, {\"level_0\": \"Confirmed\", \"level_1\": 70, \"date\": \"2020-04-01T00:00:00\", \"total_cases\": 163}, {\"level_0\": \"Confirmed\", \"level_1\": 71, \"date\": \"2020-04-02T00:00:00\", \"total_cases\": 304}, {\"level_0\": \"Confirmed\", \"level_1\": 72, \"date\": \"2020-04-03T00:00:00\", \"total_cases\": 351}, {\"level_0\": \"Confirmed\", \"level_1\": 73, \"date\": \"2020-04-04T00:00:00\", \"total_cases\": 440}, {\"level_0\": \"Confirmed\", \"level_1\": 74, \"date\": \"2020-04-05T00:00:00\", \"total_cases\": 562}, {\"level_0\": \"Confirmed\", \"level_1\": 75, \"date\": \"2020-04-06T00:00:00\", \"total_cases\": 700}, {\"level_0\": \"Confirmed\", \"level_1\": 76, \"date\": \"2020-04-07T00:00:00\", \"total_cases\": 861}, {\"level_0\": \"Confirmed\", \"level_1\": 77, \"date\": \"2020-04-08T00:00:00\", \"total_cases\": 1066}, {\"level_0\": \"Confirmed\", \"level_1\": 78, \"date\": \"2020-04-09T00:00:00\", \"total_cases\": 1486}, {\"level_0\": \"Confirmed\", \"level_1\": 79, \"date\": \"2020-04-10T00:00:00\", \"total_cases\": 1981}, {\"level_0\": \"Confirmed\", \"level_1\": 80, \"date\": \"2020-04-11T00:00:00\", \"total_cases\": 2226}, {\"level_0\": \"Confirmed\", \"level_1\": 81, \"date\": \"2020-04-12T00:00:00\", \"total_cases\": 2578}, {\"level_0\": \"Confirmed\", \"level_1\": 82, \"date\": \"2020-04-13T00:00:00\", \"total_cases\": 2919}, {\"level_0\": \"Confirmed\", \"level_1\": 83, \"date\": \"2020-04-14T00:00:00\", \"total_cases\": 3281}, {\"level_0\": \"Confirmed\", \"level_1\": 84, \"date\": \"2020-04-15T00:00:00\", \"total_cases\": 3728}, {\"level_0\": \"Confirmed\", \"level_1\": 85, \"date\": \"2020-04-16T00:00:00\", \"total_cases\": 4204}, {\"level_0\": \"Confirmed\", \"level_1\": 86, \"date\": \"2020-04-17T00:00:00\", \"total_cases\": 4779}, {\"level_0\": \"Confirmed\", \"level_1\": 87, \"date\": \"2020-04-18T00:00:00\", \"total_cases\": 4779}, {\"level_0\": \"Confirmed\", \"level_1\": 88, \"date\": \"2020-04-19T00:00:00\", \"total_cases\": 4779}, {\"level_0\": \"Confirmed\", \"level_1\": 89, \"date\": \"2020-04-20T00:00:00\", \"total_cases\": 6264}, {\"level_0\": \"Confirmed\", \"level_1\": 90, \"date\": \"2020-04-21T00:00:00\", \"total_cases\": 6723}, {\"level_0\": \"Confirmed\", \"level_1\": 91, \"date\": \"2020-04-22T00:00:00\", \"total_cases\": 7281}, {\"level_0\": \"Confirmed\", \"level_1\": 92, \"date\": \"2020-04-23T00:00:00\", \"total_cases\": 8022}, {\"level_0\": \"Confirmed\", \"level_1\": 93, \"date\": \"2020-04-24T00:00:00\", \"total_cases\": 8773}, {\"level_0\": \"Confirmed\", \"level_1\": 94, \"date\": \"2020-04-25T00:00:00\", \"total_cases\": 9590}, {\"level_0\": \"Confirmed\", \"level_1\": 95, \"date\": \"2020-04-26T00:00:00\", \"total_cases\": 10463}, {\"level_0\": \"Confirmed\", \"level_1\": 96, \"date\": \"2020-04-27T00:00:00\", \"total_cases\": 11289}, {\"level_0\": \"Confirmed\", \"level_1\": 97, \"date\": \"2020-04-28T00:00:00\", \"total_cases\": 12208}, {\"level_0\": \"Confirmed\", \"level_1\": 98, \"date\": \"2020-04-29T00:00:00\", \"total_cases\": 13181}, {\"level_0\": \"Confirmed\", \"level_1\": 99, \"date\": \"2020-04-30T00:00:00\", \"total_cases\": 14027}, {\"level_0\": \"Confirmed\", \"level_1\": 100, \"date\": \"2020-05-01T00:00:00\", \"total_cases\": 14917}, {\"level_0\": \"Confirmed\", \"level_1\": 101, \"date\": \"2020-05-02T00:00:00\", \"total_cases\": 15828}, {\"level_0\": \"Confirmed\", \"level_1\": 102, \"date\": \"2020-05-03T00:00:00\", \"total_cases\": 16705}, {\"level_0\": \"Confirmed\", \"level_1\": 103, \"date\": \"2020-05-04T00:00:00\", \"total_cases\": 17489}, {\"level_0\": \"Confirmed\", \"level_1\": 104, \"date\": \"2020-05-05T00:00:00\", \"total_cases\": 18350}, {\"level_0\": \"Confirmed\", \"level_1\": 105, \"date\": \"2020-05-06T00:00:00\", \"total_cases\": 19255}, {\"level_0\": \"Confirmed\", \"level_1\": 106, \"date\": \"2020-05-07T00:00:00\", \"total_cases\": 20168}, {\"level_0\": \"Confirmed\", \"level_1\": 107, \"date\": \"2020-05-08T00:00:00\", \"total_cases\": 21101}, {\"level_0\": \"Confirmed\", \"level_1\": 108, \"date\": \"2020-05-09T00:00:00\", \"total_cases\": 22052}, {\"level_0\": \"Confirmed\", \"level_1\": 109, \"date\": \"2020-05-10T00:00:00\", \"total_cases\": 22973}, {\"level_0\": \"Confirmed\", \"level_1\": 110, \"date\": \"2020-05-11T00:00:00\", \"total_cases\": 23906}, {\"level_0\": \"Confirmed\", \"level_1\": 111, \"date\": \"2020-05-12T00:00:00\", \"total_cases\": 24873}, {\"level_0\": \"Confirmed\", \"level_1\": 112, \"date\": \"2020-05-13T00:00:00\", \"total_cases\": 25825}, {\"level_0\": \"Confirmed\", \"level_1\": 113, \"date\": \"2020-05-14T00:00:00\", \"total_cases\": 26772}, {\"level_0\": \"Confirmed\", \"level_1\": 114, \"date\": \"2020-05-15T00:00:00\", \"total_cases\": 27730}, {\"level_0\": \"Confirmed\", \"level_1\": 115, \"date\": \"2020-05-16T00:00:00\", \"total_cases\": 28681}, {\"level_0\": \"Confirmed\", \"level_1\": 116, \"date\": \"2020-05-17T00:00:00\", \"total_cases\": 29650}, {\"level_0\": \"Confirmed\", \"level_1\": 117, \"date\": \"2020-05-18T00:00:00\", \"total_cases\": 30572}, {\"level_0\": \"Confirmed\", \"level_1\": 118, \"date\": \"2020-05-19T00:00:00\", \"total_cases\": 31508}, {\"level_0\": \"Confirmed\", \"level_1\": 119, \"date\": \"2020-05-20T00:00:00\", \"total_cases\": 32426}, {\"level_0\": \"Confirmed\", \"level_1\": 120, \"date\": \"2020-05-21T00:00:00\", \"total_cases\": 33371}, {\"level_0\": \"Confirmed\", \"level_1\": 121, \"date\": \"2020-05-22T00:00:00\", \"total_cases\": 34303}, {\"level_0\": \"Confirmed\", \"level_1\": 122, \"date\": \"2020-05-23T00:00:00\", \"total_cases\": 35244}, {\"level_0\": \"Recovered\", \"level_1\": 47, \"date\": \"2020-03-09T00:00:00\", \"total_cases\": 1}, {\"level_0\": \"Recovered\", \"level_1\": 48, \"date\": \"2020-03-10T00:00:00\", \"total_cases\": 3}, {\"level_0\": \"Recovered\", \"level_1\": 49, \"date\": \"2020-03-11T00:00:00\", \"total_cases\": 3}, {\"level_0\": \"Recovered\", \"level_1\": 50, \"date\": \"2020-03-12T00:00:00\", \"total_cases\": 3}, {\"level_0\": \"Recovered\", \"level_1\": 51, \"date\": \"2020-03-13T00:00:00\", \"total_cases\": 3}, {\"level_0\": \"Recovered\", \"level_1\": 52, \"date\": \"2020-03-14T00:00:00\", \"total_cases\": 3}, {\"level_0\": \"Recovered\", \"level_1\": 53, \"date\": \"2020-03-15T00:00:00\", \"total_cases\": 3}, {\"level_0\": \"Recovered\", \"level_1\": 54, \"date\": \"2020-03-16T00:00:00\", \"total_cases\": 3}, {\"level_0\": \"Recovered\", \"level_1\": 55, \"date\": \"2020-03-17T00:00:00\", \"total_cases\": 3}, {\"level_0\": \"Recovered\", \"level_1\": 56, \"date\": \"2020-03-18T00:00:00\", \"total_cases\": 5}, {\"level_0\": \"Recovered\", \"level_1\": 57, \"date\": \"2020-03-19T00:00:00\", \"total_cases\": 5}, {\"level_0\": \"Recovered\", \"level_1\": 58, \"date\": \"2020-03-20T00:00:00\", \"total_cases\": 5}, {\"level_0\": \"Recovered\", \"level_1\": 59, \"date\": \"2020-03-21T00:00:00\", \"total_cases\": 15}, {\"level_0\": \"Recovered\", \"level_1\": 60, \"date\": \"2020-03-22T00:00:00\", \"total_cases\": 15}, {\"level_0\": \"Recovered\", \"level_1\": 61, \"date\": \"2020-03-23T00:00:00\", \"total_cases\": 15}, {\"level_0\": \"Recovered\", \"level_1\": 62, \"date\": \"2020-03-24T00:00:00\", \"total_cases\": 22}, {\"level_0\": \"Recovered\", \"level_1\": 63, \"date\": \"2020-03-25T00:00:00\", \"total_cases\": 29}, {\"level_0\": \"Recovered\", \"level_1\": 64, \"date\": \"2020-03-26T00:00:00\", \"total_cases\": 29}, {\"level_0\": \"Recovered\", \"level_1\": 65, \"date\": \"2020-03-27T00:00:00\", \"total_cases\": 32}, {\"level_0\": \"Recovered\", \"level_1\": 66, \"date\": \"2020-03-28T00:00:00\", \"total_cases\": 32}, {\"level_0\": \"Recovered\", \"level_1\": 67, \"date\": \"2020-03-29T00:00:00\", \"total_cases\": 32}, {\"level_0\": \"Recovered\", \"level_1\": 68, \"date\": \"2020-03-30T00:00:00\", \"total_cases\": 32}, {\"level_0\": \"Recovered\", \"level_1\": 69, \"date\": \"2020-03-31T00:00:00\", \"total_cases\": 47}, {\"level_0\": \"Recovered\", \"level_1\": 70, \"date\": \"2020-04-01T00:00:00\", \"total_cases\": 53}, {\"level_0\": \"Recovered\", \"level_1\": 71, \"date\": \"2020-04-02T00:00:00\", \"total_cases\": 53}, {\"level_0\": \"Recovered\", \"level_1\": 72, \"date\": \"2020-04-03T00:00:00\", \"total_cases\": 53}, {\"level_0\": \"Recovered\", \"level_1\": 73, \"date\": \"2020-04-04T00:00:00\", \"total_cases\": 53}, {\"level_0\": \"Recovered\", \"level_1\": 74, \"date\": \"2020-04-05T00:00:00\", \"total_cases\": 52}, {\"level_0\": \"Recovered\", \"level_1\": 75, \"date\": \"2020-04-06T00:00:00\", \"total_cases\": 53}, {\"level_0\": \"Recovered\", \"level_1\": 76, \"date\": \"2020-04-07T00:00:00\", \"total_cases\": 54}, {\"level_0\": \"Recovered\", \"level_1\": 77, \"date\": \"2020-04-08T00:00:00\", \"total_cases\": 77}, {\"level_0\": \"Recovered\", \"level_1\": 78, \"date\": \"2020-04-09T00:00:00\", \"total_cases\": 139}, {\"level_0\": \"Recovered\", \"level_1\": 79, \"date\": \"2020-04-10T00:00:00\", \"total_cases\": 169}, {\"level_0\": \"Recovered\", \"level_1\": 80, \"date\": \"2020-04-11T00:00:00\", \"total_cases\": 172}, {\"level_0\": \"Recovered\", \"level_1\": 81, \"date\": \"2020-04-12T00:00:00\", \"total_cases\": 203}, {\"level_0\": \"Recovered\", \"level_1\": 82, \"date\": \"2020-04-13T00:00:00\", \"total_cases\": 203}, {\"level_0\": \"Recovered\", \"level_1\": 83, \"date\": \"2020-04-14T00:00:00\", \"total_cases\": 203}, {\"level_0\": \"Recovered\", \"level_1\": 84, \"date\": \"2020-04-15T00:00:00\", \"total_cases\": 203}, {\"level_0\": \"Recovered\", \"level_1\": 85, \"date\": \"2020-04-16T00:00:00\", \"total_cases\": 203}, {\"level_0\": \"Recovered\", \"level_1\": 86, \"date\": \"2020-04-17T00:00:00\", \"total_cases\": 342}, {\"level_0\": \"Recovered\", \"level_1\": 87, \"date\": \"2020-04-18T00:00:00\", \"total_cases\": 342}, {\"level_0\": \"Recovered\", \"level_1\": 88, \"date\": \"2020-04-19T00:00:00\", \"total_cases\": 494}, {\"level_0\": \"Recovered\", \"level_1\": 89, \"date\": \"2020-04-20T00:00:00\", \"total_cases\": 514}, {\"level_0\": \"Recovered\", \"level_1\": 90, \"date\": \"2020-04-21T00:00:00\", \"total_cases\": 577}, {\"level_0\": \"Recovered\", \"level_1\": 91, \"date\": \"2020-04-22T00:00:00\", \"total_cases\": 769}, {\"level_0\": \"Recovered\", \"level_1\": 92, \"date\": \"2020-04-23T00:00:00\", \"total_cases\": 938}, {\"level_0\": \"Recovered\", \"level_1\": 93, \"date\": \"2020-04-24T00:00:00\", \"total_cases\": 1120}, {\"level_0\": \"Recovered\", \"level_1\": 94, \"date\": \"2020-04-25T00:00:00\", \"total_cases\": 1573}, {\"level_0\": \"Recovered\", \"level_1\": 95, \"date\": \"2020-04-26T00:00:00\", \"total_cases\": 1695}, {\"level_0\": \"Recovered\", \"level_1\": 96, \"date\": \"2020-04-27T00:00:00\", \"total_cases\": 1740}, {\"level_0\": \"Recovered\", \"level_1\": 97, \"date\": \"2020-04-28T00:00:00\", \"total_cases\": 1993}, {\"level_0\": \"Recovered\", \"level_1\": 98, \"date\": \"2020-04-29T00:00:00\", \"total_cases\": 2072}, {\"level_0\": \"Recovered\", \"level_1\": 99, \"date\": \"2020-04-30T00:00:00\", \"total_cases\": 2386}, {\"level_0\": \"Recovered\", \"level_1\": 100, \"date\": \"2020-05-01T00:00:00\", \"total_cases\": 2918}, {\"level_0\": \"Recovered\", \"level_1\": 101, \"date\": \"2020-05-02T00:00:00\", \"total_cases\": 3117}, {\"level_0\": \"Recovered\", \"level_1\": 102, \"date\": \"2020-05-03T00:00:00\", \"total_cases\": 3196}, {\"level_0\": \"Recovered\", \"level_1\": 103, \"date\": \"2020-05-04T00:00:00\", \"total_cases\": 3259}, {\"level_0\": \"Recovered\", \"level_1\": 104, \"date\": \"2020-05-05T00:00:00\", \"total_cases\": 3771}, {\"level_0\": \"Recovered\", \"level_1\": 105, \"date\": \"2020-05-06T00:00:00\", \"total_cases\": 4388}, {\"level_0\": \"Recovered\", \"level_1\": 106, \"date\": \"2020-05-07T00:00:00\", \"total_cases\": 5067}, {\"level_0\": \"Recovered\", \"level_1\": 107, \"date\": \"2020-05-08T00:00:00\", \"total_cases\": 5484}, {\"level_0\": \"Recovered\", \"level_1\": 108, \"date\": \"2020-05-09T00:00:00\", \"total_cases\": 6050}, {\"level_0\": \"Recovered\", \"level_1\": 109, \"date\": \"2020-05-10T00:00:00\", \"total_cases\": 6406}, {\"level_0\": \"Recovered\", \"level_1\": 110, \"date\": \"2020-05-11T00:00:00\", \"total_cases\": 6531}, {\"level_0\": \"Recovered\", \"level_1\": 111, \"date\": \"2020-05-12T00:00:00\", \"total_cases\": 6974}, {\"level_0\": \"Recovered\", \"level_1\": 112, \"date\": \"2020-05-13T00:00:00\", \"total_cases\": 7711}, {\"level_0\": \"Recovered\", \"level_1\": 113, \"date\": \"2020-05-14T00:00:00\", \"total_cases\": 8168}, {\"level_0\": \"Recovered\", \"level_1\": 114, \"date\": \"2020-05-15T00:00:00\", \"total_cases\": 8807}, {\"level_0\": \"Recovered\", \"level_1\": 115, \"date\": \"2020-05-16T00:00:00\", \"total_cases\": 9498}, {\"level_0\": \"Recovered\", \"level_1\": 116, \"date\": \"2020-05-17T00:00:00\", \"total_cases\": 9932}, {\"level_0\": \"Recovered\", \"level_1\": 117, \"date\": \"2020-05-18T00:00:00\", \"total_cases\": 10130}, {\"level_0\": \"Recovered\", \"level_1\": 118, \"date\": \"2020-05-19T00:00:00\", \"total_cases\": 10620}, {\"level_0\": \"Recovered\", \"level_1\": 119, \"date\": \"2020-05-20T00:00:00\", \"total_cases\": 11415}, {\"level_0\": \"Recovered\", \"level_1\": 120, \"date\": \"2020-05-21T00:00:00\", \"total_cases\": 12057}, {\"level_0\": \"Recovered\", \"level_1\": 121, \"date\": \"2020-05-22T00:00:00\", \"total_cases\": 12833}, {\"level_0\": \"Recovered\", \"level_1\": 122, \"date\": \"2020-05-23T00:00:00\", \"total_cases\": 13528}, {\"level_0\": \"Deaths\", \"level_1\": 69, \"date\": \"2020-03-31T00:00:00\", \"total_cases\": 1}, {\"level_0\": \"Deaths\", \"level_1\": 70, \"date\": \"2020-04-01T00:00:00\", \"total_cases\": 2}, {\"level_0\": \"Deaths\", \"level_1\": 71, \"date\": \"2020-04-02T00:00:00\", \"total_cases\": 4}, {\"level_0\": \"Deaths\", \"level_1\": 72, \"date\": \"2020-04-03T00:00:00\", \"total_cases\": 4}, {\"level_0\": \"Deaths\", \"level_1\": 73, \"date\": \"2020-04-04T00:00:00\", \"total_cases\": 5}, {\"level_0\": \"Deaths\", \"level_1\": 74, \"date\": \"2020-04-05T00:00:00\", \"total_cases\": 8}, {\"level_0\": \"Deaths\", \"level_1\": 75, \"date\": \"2020-04-06T00:00:00\", \"total_cases\": 13}, {\"level_0\": \"Deaths\", \"level_1\": 76, \"date\": \"2020-04-07T00:00:00\", \"total_cases\": 13}, {\"level_0\": \"Deaths\", \"level_1\": 77, \"date\": \"2020-04-08T00:00:00\", \"total_cases\": 13}, {\"level_0\": \"Deaths\", \"level_1\": 78, \"date\": \"2020-04-09T00:00:00\", \"total_cases\": 16}, {\"level_0\": \"Deaths\", \"level_1\": 79, \"date\": \"2020-04-10T00:00:00\", \"total_cases\": 19}, {\"level_0\": \"Deaths\", \"level_1\": 80, \"date\": \"2020-04-11T00:00:00\", \"total_cases\": 23}, {\"level_0\": \"Deaths\", \"level_1\": 81, \"date\": \"2020-04-12T00:00:00\", \"total_cases\": 26}, {\"level_0\": \"Deaths\", \"level_1\": 82, \"date\": \"2020-04-13T00:00:00\", \"total_cases\": 29}, {\"level_0\": \"Deaths\", \"level_1\": 83, \"date\": \"2020-04-14T00:00:00\", \"total_cases\": 33}, {\"level_0\": \"Deaths\", \"level_1\": 84, \"date\": \"2020-04-15T00:00:00\", \"total_cases\": 36}, {\"level_0\": \"Deaths\", \"level_1\": 85, \"date\": \"2020-04-16T00:00:00\", \"total_cases\": 40}, {\"level_0\": \"Deaths\", \"level_1\": 86, \"date\": \"2020-04-17T00:00:00\", \"total_cases\": 42}, {\"level_0\": \"Deaths\", \"level_1\": 87, \"date\": \"2020-04-18T00:00:00\", \"total_cases\": 45}, {\"level_0\": \"Deaths\", \"level_1\": 88, \"date\": \"2020-04-19T00:00:00\", \"total_cases\": 47}, {\"level_0\": \"Deaths\", \"level_1\": 89, \"date\": \"2020-04-20T00:00:00\", \"total_cases\": 51}, {\"level_0\": \"Deaths\", \"level_1\": 90, \"date\": \"2020-04-21T00:00:00\", \"total_cases\": 55}, {\"level_0\": \"Deaths\", \"level_1\": 91, \"date\": \"2020-04-22T00:00:00\", \"total_cases\": 58}, {\"level_0\": \"Deaths\", \"level_1\": 92, \"date\": \"2020-04-23T00:00:00\", \"total_cases\": 60}, {\"level_0\": \"Deaths\", \"level_1\": 93, \"date\": \"2020-04-24T00:00:00\", \"total_cases\": 63}, {\"level_0\": \"Deaths\", \"level_1\": 94, \"date\": \"2020-04-25T00:00:00\", \"total_cases\": 67}, {\"level_0\": \"Deaths\", \"level_1\": 95, \"date\": \"2020-04-26T00:00:00\", \"total_cases\": 72}, {\"level_0\": \"Deaths\", \"level_1\": 96, \"date\": \"2020-04-27T00:00:00\", \"total_cases\": 75}, {\"level_0\": \"Deaths\", \"level_1\": 97, \"date\": \"2020-04-28T00:00:00\", \"total_cases\": 79}, {\"level_0\": \"Deaths\", \"level_1\": 98, \"date\": \"2020-04-29T00:00:00\", \"total_cases\": 84}, {\"level_0\": \"Deaths\", \"level_1\": 99, \"date\": \"2020-04-30T00:00:00\", \"total_cases\": 89}, {\"level_0\": \"Deaths\", \"level_1\": 100, \"date\": \"2020-05-01T00:00:00\", \"total_cases\": 93}, {\"level_0\": \"Deaths\", \"level_1\": 101, \"date\": \"2020-05-02T00:00:00\", \"total_cases\": 97}, {\"level_0\": \"Deaths\", \"level_1\": 102, \"date\": \"2020-05-03T00:00:00\", \"total_cases\": 99}, {\"level_0\": \"Deaths\", \"level_1\": 103, \"date\": \"2020-05-04T00:00:00\", \"total_cases\": 103}, {\"level_0\": \"Deaths\", \"level_1\": 104, \"date\": \"2020-05-05T00:00:00\", \"total_cases\": 107}, {\"level_0\": \"Deaths\", \"level_1\": 105, \"date\": \"2020-05-06T00:00:00\", \"total_cases\": 112}, {\"level_0\": \"Deaths\", \"level_1\": 106, \"date\": \"2020-05-07T00:00:00\", \"total_cases\": 116}, {\"level_0\": \"Deaths\", \"level_1\": 107, \"date\": \"2020-05-08T00:00:00\", \"total_cases\": 121}, {\"level_0\": \"Deaths\", \"level_1\": 108, \"date\": \"2020-05-09T00:00:00\", \"total_cases\": 126}, {\"level_0\": \"Deaths\", \"level_1\": 109, \"date\": \"2020-05-10T00:00:00\", \"total_cases\": 131}, {\"level_0\": \"Deaths\", \"level_1\": 110, \"date\": \"2020-05-11T00:00:00\", \"total_cases\": 135}, {\"level_0\": \"Deaths\", \"level_1\": 111, \"date\": \"2020-05-12T00:00:00\", \"total_cases\": 142}, {\"level_0\": \"Deaths\", \"level_1\": 112, \"date\": \"2020-05-13T00:00:00\", \"total_cases\": 146}, {\"level_0\": \"Deaths\", \"level_1\": 113, \"date\": \"2020-05-14T00:00:00\", \"total_cases\": 151}, {\"level_0\": \"Deaths\", \"level_1\": 114, \"date\": \"2020-05-15T00:00:00\", \"total_cases\": 156}, {\"level_0\": \"Deaths\", \"level_1\": 115, \"date\": \"2020-05-16T00:00:00\", \"total_cases\": 160}, {\"level_0\": \"Deaths\", \"level_1\": 116, \"date\": \"2020-05-17T00:00:00\", \"total_cases\": 165}, {\"level_0\": \"Deaths\", \"level_1\": 117, \"date\": \"2020-05-18T00:00:00\", \"total_cases\": 171}, {\"level_0\": \"Deaths\", \"level_1\": 118, \"date\": \"2020-05-19T00:00:00\", \"total_cases\": 175}, {\"level_0\": \"Deaths\", \"level_1\": 119, \"date\": \"2020-05-20T00:00:00\", \"total_cases\": 179}, {\"level_0\": \"Deaths\", \"level_1\": 120, \"date\": \"2020-05-21T00:00:00\", \"total_cases\": 185}, {\"level_0\": \"Deaths\", \"level_1\": 121, \"date\": \"2020-05-22T00:00:00\", \"total_cases\": 190}, {\"level_0\": \"Deaths\", \"level_1\": 122, \"date\": \"2020-05-23T00:00:00\", \"total_cases\": 194}]}}, {\"mode\": \"vega-lite\"});\n",
       "</script>"
      ],
      "text/plain": [
       "alt.Chart(...)"
      ]
     },
     "execution_count": 4,
     "metadata": {},
     "output_type": "execute_result"
    }
   ],
   "source": [
    "total_series = pd.concat([confirmed_cases, recovered_cases, deaths_cases],\n",
    "                         keys=['Confirmed', 'Recovered', 'Deaths'])\n",
    "\n",
    "total_series = total_series[total_series['total_cases'] > 0]\n",
    "\n",
    "alt.Chart(total_series.reset_index()).mark_area().encode(\n",
    "    x=alt.X('date:T', title='Date'),\n",
    "    y=alt.Y('total_cases:Q', title='Total cases', stack=None),\n",
    "    color=alt.Color('level_0:N', title='Source'),\n",
    ").properties(**default_chart_properties)"
   ]
  },
  {
   "cell_type": "markdown",
   "metadata": {},
   "source": [
    "### New cases"
   ]
  },
  {
   "cell_type": "code",
   "execution_count": 5,
   "metadata": {},
   "outputs": [
    {
     "data": {
      "text/html": [
       "\n",
       "<div id=\"altair-viz-7b544e773a90434bbc7299f585ffd680\"></div>\n",
       "<script type=\"text/javascript\">\n",
       "  (function(spec, embedOpt){\n",
       "    let outputDiv = document.currentScript.previousElementSibling;\n",
       "    if (outputDiv.id !== \"altair-viz-7b544e773a90434bbc7299f585ffd680\") {\n",
       "      outputDiv = document.getElementById(\"altair-viz-7b544e773a90434bbc7299f585ffd680\");\n",
       "    }\n",
       "    const paths = {\n",
       "      \"vega\": \"https://cdn.jsdelivr.net/npm//vega@5?noext\",\n",
       "      \"vega-lib\": \"https://cdn.jsdelivr.net/npm//vega-lib?noext\",\n",
       "      \"vega-lite\": \"https://cdn.jsdelivr.net/npm//vega-lite@4.8.1?noext\",\n",
       "      \"vega-embed\": \"https://cdn.jsdelivr.net/npm//vega-embed@6?noext\",\n",
       "    };\n",
       "\n",
       "    function loadScript(lib) {\n",
       "      return new Promise(function(resolve, reject) {\n",
       "        var s = document.createElement('script');\n",
       "        s.src = paths[lib];\n",
       "        s.async = true;\n",
       "        s.onload = () => resolve(paths[lib]);\n",
       "        s.onerror = () => reject(`Error loading script: ${paths[lib]}`);\n",
       "        document.getElementsByTagName(\"head\")[0].appendChild(s);\n",
       "      });\n",
       "    }\n",
       "\n",
       "    function showError(err) {\n",
       "      outputDiv.innerHTML = `<div class=\"error\" style=\"color:red;\">${err}</div>`;\n",
       "      throw err;\n",
       "    }\n",
       "\n",
       "    function displayChart(vegaEmbed) {\n",
       "      vegaEmbed(outputDiv, spec, embedOpt)\n",
       "        .catch(err => showError(`Javascript Error: ${err.message}<br>This usually means there's a typo in your chart specification. See the javascript console for the full traceback.`));\n",
       "    }\n",
       "\n",
       "    if(typeof define === \"function\" && define.amd) {\n",
       "      requirejs.config({paths});\n",
       "      require([\"vega-embed\"], displayChart, err => showError(`Error loading script: ${err.message}`));\n",
       "    } else if (typeof vegaEmbed === \"function\") {\n",
       "      displayChart(vegaEmbed);\n",
       "    } else {\n",
       "      loadScript(\"vega\")\n",
       "        .then(() => loadScript(\"vega-lite\"))\n",
       "        .then(() => loadScript(\"vega-embed\"))\n",
       "        .catch(showError)\n",
       "        .then(() => displayChart(vegaEmbed));\n",
       "    }\n",
       "  })({\"config\": {\"view\": {\"continuousWidth\": 400, \"continuousHeight\": 300}}, \"data\": {\"name\": \"data-eef3f80c0f6ea2007934d179007f61a8\"}, \"mark\": \"bar\", \"encoding\": {\"x\": {\"type\": \"temporal\", \"field\": \"date\", \"title\": \"Date\"}, \"y\": {\"type\": \"quantitative\", \"field\": \"total_cases\", \"title\": \"New cases\"}}, \"height\": 400, \"width\": 550, \"$schema\": \"https://vega.github.io/schema/vega-lite/v4.8.1.json\", \"datasets\": {\"data-eef3f80c0f6ea2007934d179007f61a8\": [{\"date\": \"2020-02-28T00:00:00\", \"total_cases\": 1.0}, {\"date\": \"2020-03-04T00:00:00\", \"total_cases\": 5.0}, {\"date\": \"2020-03-10T00:00:00\", \"total_cases\": 3.0}, {\"date\": \"2020-03-12T00:00:00\", \"total_cases\": 3.0}, {\"date\": \"2020-03-13T00:00:00\", \"total_cases\": 15.0}, {\"date\": \"2020-03-16T00:00:00\", \"total_cases\": 9.0}, {\"date\": \"2020-03-18T00:00:00\", \"total_cases\": 15.0}, {\"date\": \"2020-03-20T00:00:00\", \"total_cases\": 18.0}, {\"date\": \"2020-03-21T00:00:00\", \"total_cases\": 7.0}, {\"date\": \"2020-03-23T00:00:00\", \"total_cases\": 5.0}, {\"date\": \"2020-03-25T00:00:00\", \"total_cases\": 5.0}, {\"date\": \"2020-03-27T00:00:00\", \"total_cases\": 8.0}, {\"date\": \"2020-03-30T00:00:00\", \"total_cases\": 58.0}, {\"date\": \"2020-04-01T00:00:00\", \"total_cases\": 11.0}, {\"date\": \"2020-04-02T00:00:00\", \"total_cases\": 141.0}, {\"date\": \"2020-04-03T00:00:00\", \"total_cases\": 47.0}, {\"date\": \"2020-04-04T00:00:00\", \"total_cases\": 89.0}, {\"date\": \"2020-04-05T00:00:00\", \"total_cases\": 122.0}, {\"date\": \"2020-04-06T00:00:00\", \"total_cases\": 138.0}, {\"date\": \"2020-04-07T00:00:00\", \"total_cases\": 161.0}, {\"date\": \"2020-04-08T00:00:00\", \"total_cases\": 205.0}, {\"date\": \"2020-04-09T00:00:00\", \"total_cases\": 420.0}, {\"date\": \"2020-04-10T00:00:00\", \"total_cases\": 495.0}, {\"date\": \"2020-04-11T00:00:00\", \"total_cases\": 245.0}, {\"date\": \"2020-04-12T00:00:00\", \"total_cases\": 352.0}, {\"date\": \"2020-04-13T00:00:00\", \"total_cases\": 341.0}, {\"date\": \"2020-04-14T00:00:00\", \"total_cases\": 362.0}, {\"date\": \"2020-04-15T00:00:00\", \"total_cases\": 447.0}, {\"date\": \"2020-04-16T00:00:00\", \"total_cases\": 476.0}, {\"date\": \"2020-04-17T00:00:00\", \"total_cases\": 575.0}, {\"date\": \"2020-04-20T00:00:00\", \"total_cases\": 1485.0}, {\"date\": \"2020-04-21T00:00:00\", \"total_cases\": 459.0}, {\"date\": \"2020-04-22T00:00:00\", \"total_cases\": 558.0}, {\"date\": \"2020-04-23T00:00:00\", \"total_cases\": 741.0}, {\"date\": \"2020-04-24T00:00:00\", \"total_cases\": 751.0}, {\"date\": \"2020-04-25T00:00:00\", \"total_cases\": 817.0}, {\"date\": \"2020-04-26T00:00:00\", \"total_cases\": 873.0}, {\"date\": \"2020-04-27T00:00:00\", \"total_cases\": 826.0}, {\"date\": \"2020-04-28T00:00:00\", \"total_cases\": 919.0}, {\"date\": \"2020-04-29T00:00:00\", \"total_cases\": 973.0}, {\"date\": \"2020-04-30T00:00:00\", \"total_cases\": 846.0}, {\"date\": \"2020-05-01T00:00:00\", \"total_cases\": 890.0}, {\"date\": \"2020-05-02T00:00:00\", \"total_cases\": 911.0}, {\"date\": \"2020-05-03T00:00:00\", \"total_cases\": 877.0}, {\"date\": \"2020-05-04T00:00:00\", \"total_cases\": 784.0}, {\"date\": \"2020-05-05T00:00:00\", \"total_cases\": 861.0}, {\"date\": \"2020-05-06T00:00:00\", \"total_cases\": 905.0}, {\"date\": \"2020-05-07T00:00:00\", \"total_cases\": 913.0}, {\"date\": \"2020-05-08T00:00:00\", \"total_cases\": 933.0}, {\"date\": \"2020-05-09T00:00:00\", \"total_cases\": 951.0}, {\"date\": \"2020-05-10T00:00:00\", \"total_cases\": 921.0}, {\"date\": \"2020-05-11T00:00:00\", \"total_cases\": 933.0}, {\"date\": \"2020-05-12T00:00:00\", \"total_cases\": 967.0}, {\"date\": \"2020-05-13T00:00:00\", \"total_cases\": 952.0}, {\"date\": \"2020-05-14T00:00:00\", \"total_cases\": 947.0}, {\"date\": \"2020-05-15T00:00:00\", \"total_cases\": 958.0}, {\"date\": \"2020-05-16T00:00:00\", \"total_cases\": 951.0}, {\"date\": \"2020-05-17T00:00:00\", \"total_cases\": 969.0}, {\"date\": \"2020-05-18T00:00:00\", \"total_cases\": 922.0}, {\"date\": \"2020-05-19T00:00:00\", \"total_cases\": 936.0}, {\"date\": \"2020-05-20T00:00:00\", \"total_cases\": 918.0}, {\"date\": \"2020-05-21T00:00:00\", \"total_cases\": 945.0}, {\"date\": \"2020-05-22T00:00:00\", \"total_cases\": 932.0}, {\"date\": \"2020-05-23T00:00:00\", \"total_cases\": 941.0}]}}, {\"mode\": \"vega-lite\"});\n",
       "</script>"
      ],
      "text/plain": [
       "alt.Chart(...)"
      ]
     },
     "execution_count": 5,
     "metadata": {},
     "output_type": "execute_result"
    }
   ],
   "source": [
    "new_cases_growth = confirmed_cases.copy()\n",
    "new_cases_growth['total_cases'] = new_cases_growth['total_cases'].diff()\n",
    "new_cases_growth = new_cases_growth[new_cases_growth['total_cases'] > 0]\n",
    "\n",
    "alt.Chart(new_cases_growth).mark_bar().encode(\n",
    "    x=alt.X('date:T', title='Date'),\n",
    "    y=alt.Y('total_cases:Q', title='New cases'),\n",
    ").properties(**default_chart_properties)"
   ]
  },
  {
   "cell_type": "markdown",
   "metadata": {},
   "source": [
    "### Death rate"
   ]
  },
  {
   "cell_type": "code",
   "execution_count": 6,
   "metadata": {
    "scrolled": true
   },
   "outputs": [
    {
     "name": "stdout",
     "output_type": "stream",
     "text": [
      "Max death rate: 1.86% on 06.04.2020\n",
      "Latest death rate: 0.55% on 23.05.2020\n"
     ]
    },
    {
     "data": {
      "text/html": [
       "\n",
       "<div id=\"altair-viz-c5a50cb626cc407dac170bfb2122e368\"></div>\n",
       "<script type=\"text/javascript\">\n",
       "  (function(spec, embedOpt){\n",
       "    let outputDiv = document.currentScript.previousElementSibling;\n",
       "    if (outputDiv.id !== \"altair-viz-c5a50cb626cc407dac170bfb2122e368\") {\n",
       "      outputDiv = document.getElementById(\"altair-viz-c5a50cb626cc407dac170bfb2122e368\");\n",
       "    }\n",
       "    const paths = {\n",
       "      \"vega\": \"https://cdn.jsdelivr.net/npm//vega@5?noext\",\n",
       "      \"vega-lib\": \"https://cdn.jsdelivr.net/npm//vega-lib?noext\",\n",
       "      \"vega-lite\": \"https://cdn.jsdelivr.net/npm//vega-lite@4.8.1?noext\",\n",
       "      \"vega-embed\": \"https://cdn.jsdelivr.net/npm//vega-embed@6?noext\",\n",
       "    };\n",
       "\n",
       "    function loadScript(lib) {\n",
       "      return new Promise(function(resolve, reject) {\n",
       "        var s = document.createElement('script');\n",
       "        s.src = paths[lib];\n",
       "        s.async = true;\n",
       "        s.onload = () => resolve(paths[lib]);\n",
       "        s.onerror = () => reject(`Error loading script: ${paths[lib]}`);\n",
       "        document.getElementsByTagName(\"head\")[0].appendChild(s);\n",
       "      });\n",
       "    }\n",
       "\n",
       "    function showError(err) {\n",
       "      outputDiv.innerHTML = `<div class=\"error\" style=\"color:red;\">${err}</div>`;\n",
       "      throw err;\n",
       "    }\n",
       "\n",
       "    function displayChart(vegaEmbed) {\n",
       "      vegaEmbed(outputDiv, spec, embedOpt)\n",
       "        .catch(err => showError(`Javascript Error: ${err.message}<br>This usually means there's a typo in your chart specification. See the javascript console for the full traceback.`));\n",
       "    }\n",
       "\n",
       "    if(typeof define === \"function\" && define.amd) {\n",
       "      requirejs.config({paths});\n",
       "      require([\"vega-embed\"], displayChart, err => showError(`Error loading script: ${err.message}`));\n",
       "    } else if (typeof vegaEmbed === \"function\") {\n",
       "      displayChart(vegaEmbed);\n",
       "    } else {\n",
       "      loadScript(\"vega\")\n",
       "        .then(() => loadScript(\"vega-lite\"))\n",
       "        .then(() => loadScript(\"vega-embed\"))\n",
       "        .catch(showError)\n",
       "        .then(() => displayChart(vegaEmbed));\n",
       "    }\n",
       "  })({\"config\": {\"view\": {\"continuousWidth\": 400, \"continuousHeight\": 300}}, \"data\": {\"name\": \"data-1d3ae74cd0838e6d94a45dee96df38f6\"}, \"mark\": \"bar\", \"encoding\": {\"x\": {\"type\": \"temporal\", \"field\": \"date\", \"title\": \"Date\"}, \"y\": {\"type\": \"quantitative\", \"field\": \"death_rate\", \"title\": \"Death rate, %\"}}, \"height\": 400, \"width\": 550, \"$schema\": \"https://vega.github.io/schema/vega-lite/v4.8.1.json\", \"datasets\": {\"data-1d3ae74cd0838e6d94a45dee96df38f6\": [{\"date\": \"2020-02-28T00:00:00\", \"death_rate\": 0.0}, {\"date\": \"2020-02-29T00:00:00\", \"death_rate\": 0.0}, {\"date\": \"2020-03-01T00:00:00\", \"death_rate\": 0.0}, {\"date\": \"2020-03-02T00:00:00\", \"death_rate\": 0.0}, {\"date\": \"2020-03-03T00:00:00\", \"death_rate\": 0.0}, {\"date\": \"2020-03-04T00:00:00\", \"death_rate\": 0.0}, {\"date\": \"2020-03-05T00:00:00\", \"death_rate\": 0.0}, {\"date\": \"2020-03-06T00:00:00\", \"death_rate\": 0.0}, {\"date\": \"2020-03-07T00:00:00\", \"death_rate\": 0.0}, {\"date\": \"2020-03-08T00:00:00\", \"death_rate\": 0.0}, {\"date\": \"2020-03-09T00:00:00\", \"death_rate\": 0.0}, {\"date\": \"2020-03-10T00:00:00\", \"death_rate\": 0.0}, {\"date\": \"2020-03-11T00:00:00\", \"death_rate\": 0.0}, {\"date\": \"2020-03-12T00:00:00\", \"death_rate\": 0.0}, {\"date\": \"2020-03-13T00:00:00\", \"death_rate\": 0.0}, {\"date\": \"2020-03-14T00:00:00\", \"death_rate\": 0.0}, {\"date\": \"2020-03-15T00:00:00\", \"death_rate\": 0.0}, {\"date\": \"2020-03-16T00:00:00\", \"death_rate\": 0.0}, {\"date\": \"2020-03-17T00:00:00\", \"death_rate\": 0.0}, {\"date\": \"2020-03-18T00:00:00\", \"death_rate\": 0.0}, {\"date\": \"2020-03-19T00:00:00\", \"death_rate\": 0.0}, {\"date\": \"2020-03-20T00:00:00\", \"death_rate\": 0.0}, {\"date\": \"2020-03-21T00:00:00\", \"death_rate\": 0.0}, {\"date\": \"2020-03-22T00:00:00\", \"death_rate\": 0.0}, {\"date\": \"2020-03-23T00:00:00\", \"death_rate\": 0.0}, {\"date\": \"2020-03-24T00:00:00\", \"death_rate\": 0.0}, {\"date\": \"2020-03-25T00:00:00\", \"death_rate\": 0.0}, {\"date\": \"2020-03-26T00:00:00\", \"death_rate\": 0.0}, {\"date\": \"2020-03-27T00:00:00\", \"death_rate\": 0.0}, {\"date\": \"2020-03-28T00:00:00\", \"death_rate\": 0.0}, {\"date\": \"2020-03-29T00:00:00\", \"death_rate\": 0.0}, {\"date\": \"2020-03-30T00:00:00\", \"death_rate\": 0.0}, {\"date\": \"2020-03-31T00:00:00\", \"death_rate\": 0.6578947368421052}, {\"date\": \"2020-04-01T00:00:00\", \"death_rate\": 1.2269938650306749}, {\"date\": \"2020-04-02T00:00:00\", \"death_rate\": 1.3157894736842104}, {\"date\": \"2020-04-03T00:00:00\", \"death_rate\": 1.1396011396011396}, {\"date\": \"2020-04-04T00:00:00\", \"death_rate\": 1.1363636363636365}, {\"date\": \"2020-04-05T00:00:00\", \"death_rate\": 1.4234875444839856}, {\"date\": \"2020-04-06T00:00:00\", \"death_rate\": 1.8571428571428572}, {\"date\": \"2020-04-07T00:00:00\", \"death_rate\": 1.5098722415795587}, {\"date\": \"2020-04-08T00:00:00\", \"death_rate\": 1.2195121951219512}, {\"date\": \"2020-04-09T00:00:00\", \"death_rate\": 1.0767160161507403}, {\"date\": \"2020-04-10T00:00:00\", \"death_rate\": 0.9591115598182737}, {\"date\": \"2020-04-11T00:00:00\", \"death_rate\": 1.0332434860736748}, {\"date\": \"2020-04-12T00:00:00\", \"death_rate\": 1.008533747090768}, {\"date\": \"2020-04-13T00:00:00\", \"death_rate\": 0.9934909215484755}, {\"date\": \"2020-04-14T00:00:00\", \"death_rate\": 1.005790917403231}, {\"date\": \"2020-04-15T00:00:00\", \"death_rate\": 0.9656652360515022}, {\"date\": \"2020-04-16T00:00:00\", \"death_rate\": 0.9514747859181731}, {\"date\": \"2020-04-17T00:00:00\", \"death_rate\": 0.8788449466415568}, {\"date\": \"2020-04-18T00:00:00\", \"death_rate\": 0.9416195856873822}, {\"date\": \"2020-04-19T00:00:00\", \"death_rate\": 0.983469345051266}, {\"date\": \"2020-04-20T00:00:00\", \"death_rate\": 0.814176245210728}, {\"date\": \"2020-04-21T00:00:00\", \"death_rate\": 0.8180871634686896}, {\"date\": \"2020-04-22T00:00:00\", \"death_rate\": 0.796593874467793}, {\"date\": \"2020-04-23T00:00:00\", \"death_rate\": 0.7479431563201197}, {\"date\": \"2020-04-24T00:00:00\", \"death_rate\": 0.7181123902883848}, {\"date\": \"2020-04-25T00:00:00\", \"death_rate\": 0.6986444212721585}, {\"date\": \"2020-04-26T00:00:00\", \"death_rate\": 0.6881391570295327}, {\"date\": \"2020-04-27T00:00:00\", \"death_rate\": 0.6643635397289397}, {\"date\": \"2020-04-28T00:00:00\", \"death_rate\": 0.6471166448230669}, {\"date\": \"2020-04-29T00:00:00\", \"death_rate\": 0.6372809346787042}, {\"date\": \"2020-04-30T00:00:00\", \"death_rate\": 0.6344906252227847}, {\"date\": \"2020-05-01T00:00:00\", \"death_rate\": 0.6234497553127305}, {\"date\": \"2020-05-02T00:00:00\", \"death_rate\": 0.6128380085923679}, {\"date\": \"2020-05-03T00:00:00\", \"death_rate\": 0.5926369350493864}, {\"date\": \"2020-05-04T00:00:00\", \"death_rate\": 0.5889416204471383}, {\"date\": \"2020-05-05T00:00:00\", \"death_rate\": 0.5831062670299728}, {\"date\": \"2020-05-06T00:00:00\", \"death_rate\": 0.5816670994546871}, {\"date\": \"2020-05-07T00:00:00\", \"death_rate\": 0.5751685838952797}, {\"date\": \"2020-05-08T00:00:00\", \"death_rate\": 0.5734325387422398}, {\"date\": \"2020-05-09T00:00:00\", \"death_rate\": 0.5713767458733902}, {\"date\": \"2020-05-10T00:00:00\", \"death_rate\": 0.5702346232533845}, {\"date\": \"2020-05-11T00:00:00\", \"death_rate\": 0.5647117878356898}, {\"date\": \"2020-05-12T00:00:00\", \"death_rate\": 0.5709001728782214}, {\"date\": \"2020-05-13T00:00:00\", \"death_rate\": 0.5653436592449177}, {\"date\": \"2020-05-14T00:00:00\", \"death_rate\": 0.5640221126550127}, {\"date\": \"2020-05-15T00:00:00\", \"death_rate\": 0.562567616300036}, {\"date\": \"2020-05-16T00:00:00\", \"death_rate\": 0.5578606045814302}, {\"date\": \"2020-05-17T00:00:00\", \"death_rate\": 0.5564924114671164}, {\"date\": \"2020-05-18T00:00:00\", \"death_rate\": 0.559335339526364}, {\"date\": \"2020-05-19T00:00:00\", \"death_rate\": 0.5554144979052938}, {\"date\": \"2020-05-20T00:00:00\", \"death_rate\": 0.5520261518534509}, {\"date\": \"2020-05-21T00:00:00\", \"death_rate\": 0.5543735578795961}, {\"date\": \"2020-05-22T00:00:00\", \"death_rate\": 0.5538874150948897}, {\"date\": \"2020-05-23T00:00:00\", \"death_rate\": 0.550448303257292}]}}, {\"mode\": \"vega-lite\"});\n",
       "</script>"
      ],
      "text/plain": [
       "alt.Chart(...)"
      ]
     },
     "execution_count": 6,
     "metadata": {},
     "output_type": "execute_result"
    }
   ],
   "source": [
    "death_rate = confirmed_cases[['date']].copy()\n",
    "death_rate['death_rate'] = deaths_cases['total_cases'] / confirmed_cases['total_cases'] * 100\n",
    "death_rate = death_rate[death_rate['death_rate'] == death_rate['death_rate']]\n",
    "\n",
    "max_index = death_rate['death_rate'].argmax()\n",
    "max_entry = death_rate.iloc[max_index]\n",
    "print('Max death rate: {0:.2f}% on {1}'.format(max_entry['death_rate'], max_entry['date'].strftime('%d.%m.%Y')))\n",
    "\n",
    "last_entry = death_rate.iloc[-1]\n",
    "print('Latest death rate: {0:.2f}% on {1}'.format(last_entry['death_rate'], last_entry['date'].strftime('%d.%m.%Y')))\n",
    "\n",
    "alt.Chart(death_rate).mark_bar().encode(\n",
    "    x=alt.X('date:T', title = 'Date'),\n",
    "    y=alt.Y('death_rate:Q', title = 'Death rate, %'),\n",
    ").properties(**default_chart_properties)"
   ]
  },
  {
   "cell_type": "markdown",
   "metadata": {},
   "source": [
    "### Ministry of Public Health forecast\n",
    "This data is approximation to the forecast was spotted by journalists during president's speech ([Video at 1:24](https://mirtvpc.cdnvideo.ru/mirtv/1588505558104.mp4?fbclid=IwAR39k3nFWNhs8XxPMp8yy_XDfpIyw-B4iccRIK5lU6h5u2eqjUqc34dSPSc))"
   ]
  },
  {
   "cell_type": "code",
   "execution_count": 7,
   "metadata": {},
   "outputs": [],
   "source": [
    "forecast_data_raw = [\n",
    "    ['5/3/20', 16705],\n",
    "    ['5/4/20', 17791],\n",
    "    ['5/5/20', 18798],\n",
    "    ['5/6/20', 19770],\n",
    "    ['5/7/20', 20602],\n",
    "    ['5/8/20', 21567],\n",
    "    ['5/9/20', 22606],\n",
    "    ['5/10/20', 23539],\n",
    "    ['5/11/20', 24339],\n",
    "    ['5/12/20', 25297],\n",
    "    ['5/13/20', 26168],\n",
    "    ['5/14/20', 27084],\n",
    "    ['5/15/20', 28019],\n",
    "    ['5/16/20', 28890],\n",
    "    ['5/17/20', 29836],\n",
    "    ['5/18/20', 30658],\n",
    "    ['5/19/20', 31561],\n",
    "    ['5/20/20', 32369],\n",
    "    ['5/21/20', 33237],\n",
    "    ['5/22/20', 34118],\n",
    "    ['5/23/20', 35026],\n",
    "    ['5/24/20', 35894],\n",
    "    ['5/25/20', 36611],\n",
    "    ['5/26/20', 37431],\n",
    "    ['5/27/20', 38166],\n",
    "    ['5/28/20', 38771],\n",
    "    ['5/29/20', 39246],\n",
    "    ['5/30/20', 39846],\n",
    "    ['5/31/20', 40271],\n",
    "]\n",
    "\n",
    "forecast_data = pd.DataFrame(forecast_data_raw, columns=['date', 'total_cases'])\n",
    "forecast_data['date'] = pd.to_datetime(forecast_data.date)"
   ]
  },
  {
   "cell_type": "code",
   "execution_count": 8,
   "metadata": {},
   "outputs": [
    {
     "data": {
      "text/html": [
       "\n",
       "<div id=\"altair-viz-d97331772c854962b4621b9236693a17\"></div>\n",
       "<script type=\"text/javascript\">\n",
       "  (function(spec, embedOpt){\n",
       "    let outputDiv = document.currentScript.previousElementSibling;\n",
       "    if (outputDiv.id !== \"altair-viz-d97331772c854962b4621b9236693a17\") {\n",
       "      outputDiv = document.getElementById(\"altair-viz-d97331772c854962b4621b9236693a17\");\n",
       "    }\n",
       "    const paths = {\n",
       "      \"vega\": \"https://cdn.jsdelivr.net/npm//vega@5?noext\",\n",
       "      \"vega-lib\": \"https://cdn.jsdelivr.net/npm//vega-lib?noext\",\n",
       "      \"vega-lite\": \"https://cdn.jsdelivr.net/npm//vega-lite@4.8.1?noext\",\n",
       "      \"vega-embed\": \"https://cdn.jsdelivr.net/npm//vega-embed@6?noext\",\n",
       "    };\n",
       "\n",
       "    function loadScript(lib) {\n",
       "      return new Promise(function(resolve, reject) {\n",
       "        var s = document.createElement('script');\n",
       "        s.src = paths[lib];\n",
       "        s.async = true;\n",
       "        s.onload = () => resolve(paths[lib]);\n",
       "        s.onerror = () => reject(`Error loading script: ${paths[lib]}`);\n",
       "        document.getElementsByTagName(\"head\")[0].appendChild(s);\n",
       "      });\n",
       "    }\n",
       "\n",
       "    function showError(err) {\n",
       "      outputDiv.innerHTML = `<div class=\"error\" style=\"color:red;\">${err}</div>`;\n",
       "      throw err;\n",
       "    }\n",
       "\n",
       "    function displayChart(vegaEmbed) {\n",
       "      vegaEmbed(outputDiv, spec, embedOpt)\n",
       "        .catch(err => showError(`Javascript Error: ${err.message}<br>This usually means there's a typo in your chart specification. See the javascript console for the full traceback.`));\n",
       "    }\n",
       "\n",
       "    if(typeof define === \"function\" && define.amd) {\n",
       "      requirejs.config({paths});\n",
       "      require([\"vega-embed\"], displayChart, err => showError(`Error loading script: ${err.message}`));\n",
       "    } else if (typeof vegaEmbed === \"function\") {\n",
       "      displayChart(vegaEmbed);\n",
       "    } else {\n",
       "      loadScript(\"vega\")\n",
       "        .then(() => loadScript(\"vega-lite\"))\n",
       "        .then(() => loadScript(\"vega-embed\"))\n",
       "        .catch(showError)\n",
       "        .then(() => displayChart(vegaEmbed));\n",
       "    }\n",
       "  })({\"config\": {\"view\": {\"continuousWidth\": 400, \"continuousHeight\": 300}}, \"layer\": [{\"data\": {\"name\": \"data-f0c02c809832f94149cecc8a8fdf79f7\"}, \"mark\": \"bar\", \"encoding\": {\"x\": {\"type\": \"temporal\", \"field\": \"date\", \"title\": \"Date\"}, \"y\": {\"type\": \"quantitative\", \"field\": \"total_cases\", \"title\": \"Total cases\"}}, \"title\": \"Real cases vs. forecast for May 3-31\"}, {\"data\": {\"name\": \"data-cab269fde73c1fd7f50178722b09169b\"}, \"mark\": {\"type\": \"line\", \"color\": \"red\"}, \"encoding\": {\"x\": {\"type\": \"temporal\", \"field\": \"date\"}, \"y\": {\"type\": \"quantitative\", \"field\": \"total_cases\"}}}], \"height\": 400, \"width\": 550, \"$schema\": \"https://vega.github.io/schema/vega-lite/v4.8.1.json\", \"datasets\": {\"data-f0c02c809832f94149cecc8a8fdf79f7\": [{\"date\": \"2020-04-28T00:00:00\", \"total_cases\": 12208}, {\"date\": \"2020-04-29T00:00:00\", \"total_cases\": 13181}, {\"date\": \"2020-04-30T00:00:00\", \"total_cases\": 14027}, {\"date\": \"2020-05-01T00:00:00\", \"total_cases\": 14917}, {\"date\": \"2020-05-02T00:00:00\", \"total_cases\": 15828}, {\"date\": \"2020-05-03T00:00:00\", \"total_cases\": 16705}, {\"date\": \"2020-05-04T00:00:00\", \"total_cases\": 17489}, {\"date\": \"2020-05-05T00:00:00\", \"total_cases\": 18350}, {\"date\": \"2020-05-06T00:00:00\", \"total_cases\": 19255}, {\"date\": \"2020-05-07T00:00:00\", \"total_cases\": 20168}, {\"date\": \"2020-05-08T00:00:00\", \"total_cases\": 21101}, {\"date\": \"2020-05-09T00:00:00\", \"total_cases\": 22052}, {\"date\": \"2020-05-10T00:00:00\", \"total_cases\": 22973}, {\"date\": \"2020-05-11T00:00:00\", \"total_cases\": 23906}, {\"date\": \"2020-05-12T00:00:00\", \"total_cases\": 24873}, {\"date\": \"2020-05-13T00:00:00\", \"total_cases\": 25825}, {\"date\": \"2020-05-14T00:00:00\", \"total_cases\": 26772}, {\"date\": \"2020-05-15T00:00:00\", \"total_cases\": 27730}, {\"date\": \"2020-05-16T00:00:00\", \"total_cases\": 28681}, {\"date\": \"2020-05-17T00:00:00\", \"total_cases\": 29650}, {\"date\": \"2020-05-18T00:00:00\", \"total_cases\": 30572}, {\"date\": \"2020-05-19T00:00:00\", \"total_cases\": 31508}, {\"date\": \"2020-05-20T00:00:00\", \"total_cases\": 32426}, {\"date\": \"2020-05-21T00:00:00\", \"total_cases\": 33371}, {\"date\": \"2020-05-22T00:00:00\", \"total_cases\": 34303}, {\"date\": \"2020-05-23T00:00:00\", \"total_cases\": 35244}], \"data-cab269fde73c1fd7f50178722b09169b\": [{\"date\": \"2020-05-03T00:00:00\", \"total_cases\": 16705}, {\"date\": \"2020-05-04T00:00:00\", \"total_cases\": 17791}, {\"date\": \"2020-05-05T00:00:00\", \"total_cases\": 18798}, {\"date\": \"2020-05-06T00:00:00\", \"total_cases\": 19770}, {\"date\": \"2020-05-07T00:00:00\", \"total_cases\": 20602}, {\"date\": \"2020-05-08T00:00:00\", \"total_cases\": 21567}, {\"date\": \"2020-05-09T00:00:00\", \"total_cases\": 22606}, {\"date\": \"2020-05-10T00:00:00\", \"total_cases\": 23539}, {\"date\": \"2020-05-11T00:00:00\", \"total_cases\": 24339}, {\"date\": \"2020-05-12T00:00:00\", \"total_cases\": 25297}, {\"date\": \"2020-05-13T00:00:00\", \"total_cases\": 26168}, {\"date\": \"2020-05-14T00:00:00\", \"total_cases\": 27084}, {\"date\": \"2020-05-15T00:00:00\", \"total_cases\": 28019}, {\"date\": \"2020-05-16T00:00:00\", \"total_cases\": 28890}, {\"date\": \"2020-05-17T00:00:00\", \"total_cases\": 29836}, {\"date\": \"2020-05-18T00:00:00\", \"total_cases\": 30658}, {\"date\": \"2020-05-19T00:00:00\", \"total_cases\": 31561}, {\"date\": \"2020-05-20T00:00:00\", \"total_cases\": 32369}, {\"date\": \"2020-05-21T00:00:00\", \"total_cases\": 33237}, {\"date\": \"2020-05-22T00:00:00\", \"total_cases\": 34118}, {\"date\": \"2020-05-23T00:00:00\", \"total_cases\": 35026}, {\"date\": \"2020-05-24T00:00:00\", \"total_cases\": 35894}, {\"date\": \"2020-05-25T00:00:00\", \"total_cases\": 36611}, {\"date\": \"2020-05-26T00:00:00\", \"total_cases\": 37431}, {\"date\": \"2020-05-27T00:00:00\", \"total_cases\": 38166}, {\"date\": \"2020-05-28T00:00:00\", \"total_cases\": 38771}, {\"date\": \"2020-05-29T00:00:00\", \"total_cases\": 39246}, {\"date\": \"2020-05-30T00:00:00\", \"total_cases\": 39846}, {\"date\": \"2020-05-31T00:00:00\", \"total_cases\": 40271}]}}, {\"mode\": \"vega-lite\"});\n",
       "</script>"
      ],
      "text/plain": [
       "alt.LayerChart(...)"
      ]
     },
     "execution_count": 8,
     "metadata": {},
     "output_type": "execute_result"
    }
   ],
   "source": [
    "confirmed_cases_started_from_may = confirmed_cases[\n",
    "    (confirmed_cases['total_cases'] > 0) & \\\n",
    "    (confirmed_cases['date'] >='4/28/2020') & \\\n",
    "    (confirmed_cases['date'] <='6/5/2020')\n",
    "]\n",
    "\n",
    "confirmed_cases_chart = alt.Chart(\n",
    "    confirmed_cases_started_from_may,\n",
    "    title='Real cases vs. forecast for May 3-31'\n",
    ").mark_bar().encode(\n",
    "    x=alt.X('date:T', title='Date'),\n",
    "    y=alt.Y('total_cases:Q', title='Total cases'),\n",
    ")\n",
    "\n",
    "forecast_cases_chart = alt.Chart(\n",
    "    forecast_data,\n",
    ").mark_line(\n",
    "    color='red'\n",
    ").encode(\n",
    "    x=alt.X('date:T'),\n",
    "    y=alt.Y('total_cases:Q'),\n",
    ")\n",
    "\n",
    "(confirmed_cases_chart + forecast_cases_chart).properties(\n",
    "    **default_chart_properties)"
   ]
  },
  {
   "cell_type": "markdown",
   "metadata": {},
   "source": [
    "### Recovering period\n",
    "Calculating an average period need for recovering from COVID-19. From the statistic data, it's a period on which recovered + deaths get equal to previously confirmed cases."
   ]
  },
  {
   "cell_type": "code",
   "execution_count": 9,
   "metadata": {},
   "outputs": [
    {
     "name": "stdout",
     "output_type": "stream",
     "text": [
      "COVID-19 recovering period last 2 weeks (median) is 20 days\n"
     ]
    }
   ],
   "source": [
    "rd_cases = recovered_cases.copy()\n",
    "rd_cases['total_cases'] += deaths_cases['total_cases']\n",
    "\n",
    "recovery_days = []\n",
    "for rd_case in rd_cases.values[::-1]:\n",
    "    first_confirmed_idx = np.argmax(\n",
    "        confirmed_cases['total_cases'] >= rd_case[1])\n",
    "    \n",
    "    if first_confirmed_idx == 0:\n",
    "        break\n",
    "    \n",
    "    recovery_days.insert(0, (rd_case[0] - confirmed_cases.loc[first_confirmed_idx]['date']).days)\n",
    "\n",
    "median_recovery_days = int(np.median(recovery_days[-14:]))\n",
    "\n",
    "print('COVID-19 recovering period last 2 weeks (median) is {} days'.format(median_recovery_days))"
   ]
  }
 ],
 "metadata": {
  "kernelspec": {
   "display_name": "Python 3",
   "language": "python",
   "name": "python3"
  },
  "language_info": {
   "codemirror_mode": {
    "name": "ipython",
    "version": 3
   },
   "file_extension": ".py",
   "mimetype": "text/x-python",
   "name": "python",
   "nbconvert_exporter": "python",
   "pygments_lexer": "ipython3",
   "version": "3.7.6"
  }
 },
 "nbformat": 4,
 "nbformat_minor": 4
}
